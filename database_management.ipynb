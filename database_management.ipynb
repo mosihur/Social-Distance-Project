{
 "cells": [
  {
   "cell_type": "code",
   "execution_count": 1,
   "metadata": {
    "colab": {},
    "colab_type": "code",
    "id": "vyzI3OIlSPne"
   },
   "outputs": [
    {
     "name": "stderr",
     "output_type": "stream",
     "text": [
      "'apt-get' is not recognized as an internal or external command,\n",
      "operable program or batch file.\n"
     ]
    }
   ],
   "source": [
    "!apt-get install mysql.connector"
   ]
  },
  {
   "cell_type": "code",
   "execution_count": 2,
   "metadata": {
    "colab": {},
    "colab_type": "code",
    "id": "4OPIPQ6oSKDn"
   },
   "outputs": [
    {
     "ename": "ModuleNotFoundError",
     "evalue": "No module named 'mysql'",
     "output_type": "error",
     "traceback": [
      "\u001b[1;31m---------------------------------------------------------------------------\u001b[0m",
      "\u001b[1;31mModuleNotFoundError\u001b[0m                       Traceback (most recent call last)",
      "\u001b[1;32m<ipython-input-2-85c1678ce6e8>\u001b[0m in \u001b[0;36m<module>\u001b[1;34m\u001b[0m\n\u001b[1;32m----> 1\u001b[1;33m \u001b[1;32mimport\u001b[0m \u001b[0mmysql\u001b[0m\u001b[1;33m.\u001b[0m\u001b[0mconnector\u001b[0m\u001b[1;33m\u001b[0m\u001b[1;33m\u001b[0m\u001b[0m\n\u001b[0m\u001b[0;32m      2\u001b[0m \u001b[1;33m\u001b[0m\u001b[0m\n\u001b[0;32m      3\u001b[0m mydb = mysql.connector.connect(\n\u001b[0;32m      4\u001b[0m   \u001b[0mhost\u001b[0m\u001b[1;33m=\u001b[0m\u001b[1;34m\"localhost\"\u001b[0m\u001b[1;33m,\u001b[0m\u001b[1;33m\u001b[0m\u001b[1;33m\u001b[0m\u001b[0m\n\u001b[0;32m      5\u001b[0m   \u001b[0muser\u001b[0m\u001b[1;33m=\u001b[0m\u001b[1;34m\"root\"\u001b[0m\u001b[1;33m,\u001b[0m\u001b[1;33m\u001b[0m\u001b[1;33m\u001b[0m\u001b[0m\n",
      "\u001b[1;31mModuleNotFoundError\u001b[0m: No module named 'mysql'"
     ]
    }
   ],
   "source": [
    "import mysql.connector\n",
    "\n",
    "mydb = mysql.connector.connect(\n",
    "  host=\"localhost\",\n",
    "  user=\"root\",\n",
    "  passwd=\"\",\n",
    "  database=\"social_distancing\"\n",
    ")\n",
    "mycursor = mydb.cursor()\n",
    "mycursor.execute(\"CREATE TABLE images ( cam_no INT NOT NULL , pdate DATE , ptime TIME, photo BLOB)\")\n"
   ]
  },
  {
   "cell_type": "code",
   "execution_count": 0,
   "metadata": {
    "colab": {},
    "colab_type": "code",
    "id": "LBM2U5wjQ2za"
   },
   "outputs": [],
   "source": [
    "import mysql.connector\n",
    "from mysql.connector import Error\n",
    "\n",
    "def convertToBinaryData(filename):\n",
    "    # Convert digital data to binary format\n",
    "    with open(filename, 'rb') as file:\n",
    "        binaryData = file.read()\n",
    "    return binaryData\n",
    "\n",
    "def insertBLOB(cam_no,image):\n",
    "    print(\"Inserting BLOB into images table\")\n",
    "    try:\n",
    "        connection = mysql.connector.connect(host='localhost',\n",
    "                                             database='social_distancing',\n",
    "                                             user='root',\n",
    "                                             password='')\n",
    "\n",
    "        cursor = connection.cursor()\n",
    "        sql_insert_blob_query = \"\"\" INSERT INTO images\n",
    "                          (cam_no, pdate, ptime, photo) VALUES (%s,curdate(),curtime(),%s)\"\"\"\n",
    "\n",
    "        photo = convertToBinaryData(image)\n",
    "        \n",
    "\n",
    "        # Convert data into tuple format\n",
    "        insert_blob_tuple = (cam_no,photo,)\n",
    "        result = cursor.execute(sql_insert_blob_query, insert_blob_tuple)\n",
    "        connection.commit()\n",
    "        print(\"Image inserted successfully as a BLOB into images table\", result)\n",
    "\n",
    "    except mysql.connector.Error as error:\n",
    "        print(\"Failed inserting BLOB data into MySQL table {}\".format(error))\n",
    "\n",
    "    finally:\n",
    "        if (connection.is_connected()):\n",
    "            cursor.close()\n",
    "            connection.close()\n",
    "            print(\"MySQL connection is closed\")\n",
    "\n",
    "insertBLOB(1,\"humanFace.jpg\")"
   ]
  },
  {
   "cell_type": "code",
   "execution_count": 0,
   "metadata": {
    "colab": {},
    "colab_type": "code",
    "id": "N8h1Hea0Of7-"
   },
   "outputs": [],
   "source": [
    "import mysql.connector\n",
    "from mysql.connector import Error\n",
    "\n",
    "def write_file(data, filename):\n",
    "    # Convert binary data to proper format and write it on Hard Disk\n",
    "    with open(filename, 'wb') as file:\n",
    "        file.write(data)\n",
    "\n",
    "def readBLOB(cam_no, photo):\n",
    "    print(\"Reading BLOB data from images table\")\n",
    "\n",
    "    try:\n",
    "        connection = mysql.connector.connect(host='localhost',\n",
    "                                             database='social_distancing',\n",
    "                                             user='root',\n",
    "                                             password='')\n",
    "\n",
    "        cursor = connection.cursor()\n",
    "        sql_fetch_blob_query = \"\"\"SELECT * from images where cam_no = %s\"\"\"\n",
    "\n",
    "        cursor.execute(sql_fetch_blob_query, (cam_no,))\n",
    "        record = cursor.fetchall()\n",
    "        for row in record:\n",
    "            print(\"cam_no = \", row[0])\n",
    "            print(\"date= \", row[1])\n",
    "            print(\"time= \", row[2])\n",
    "            newimage = row[3]\n",
    "            print(\"Storing image on disk \\n\")\n",
    "            write_file(newimage, photo)\n",
    "\n",
    "    except mysql.connector.Error as error:\n",
    "        print(\"Failed to read BLOB data from MySQL table {}\".format(error))\n",
    "\n",
    "    finally:\n",
    "        if (connection.is_connected()):\n",
    "            cursor.close()\n",
    "            connection.close()\n",
    "            print(\"MySQL connection is closed\")\n",
    "\n",
    "readBLOB(1, \"photo.jpg\")"
   ]
  }
 ],
 "metadata": {
  "colab": {
   "authorship_tag": "ABX9TyPzacVzg4eNLza++6tPxdup",
   "collapsed_sections": [],
   "name": "database_management.ipynb",
   "provenance": []
  },
  "kernelspec": {
   "display_name": "Python 3",
   "language": "python",
   "name": "python3"
  },
  "language_info": {
   "codemirror_mode": {
    "name": "ipython",
    "version": 3
   },
   "file_extension": ".py",
   "mimetype": "text/x-python",
   "name": "python",
   "nbconvert_exporter": "python",
   "pygments_lexer": "ipython3",
   "version": "3.7.1"
  }
 },
 "nbformat": 4,
 "nbformat_minor": 1
}
