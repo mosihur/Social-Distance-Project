{
 "cells": [
  {
   "cell_type": "code",
   "execution_count": 1,
   "metadata": {
    "colab": {},
    "colab_type": "code",
    "id": "snbhZV0XP-9L"
   },
   "outputs": [],
   "source": [
    "import math\n",
    "import cv2 \n",
    "import imutils \n",
    "import numpy as np\n",
    "   \n",
    "# Initializing the HOG person \n",
    "# detector \n",
    "hog = cv2.HOGDescriptor() \n",
    "hog.setSVMDetector(cv2.HOGDescriptor_getDefaultPeopleDetector()) \n",
    "   \n",
    "cap = cv2.VideoCapture('a.avi') \n",
    "counter, buffer = 0,10\n",
    "   \n",
    "while cap.isOpened(): \n",
    "    # Reading the video stream \n",
    "    ret, photo = cap.read() \n",
    "   \n",
    "    cords=[]\n",
    "    if ret:\n",
    "        scale_percent = 50 # percent of original size\n",
    "        width = int(photo.shape[1] * scale_percent / 100)\n",
    "        height = int(photo.shape[0] * scale_percent / 100)\n",
    "        dim = (width, height)\n",
    "        # resize image\n",
    "        photo = cv2.resize(photo, dim, interpolation = cv2.INTER_AREA) \n",
    "        \n",
    "        # Detecting pedestrians\n",
    "        counter += 1\n",
    "        if counter == 1:\n",
    "            (body, _) = hog.detectMultiScale(photo, \n",
    "                                                winStride=(4, 4), \n",
    "                                                padding=(4, 4), \n",
    "                                                scale=1.05)\n",
    "        elif counter == buffer:\n",
    "            counter = 0\n",
    "\n",
    "        for (x, y, w, h) in body: \n",
    "            photo = cv2.rectangle(photo, (x,y), (x+w,y+h), (0,255,0), 2)                        \n",
    "                    \n",
    "            a=int((x+(x+w))/2)\n",
    "            b=int((y+(y+h))/2)\n",
    "            list1=[]\n",
    "            list1.append(a)\n",
    "            list1.append(b)\n",
    "            cords.append(list1)\n",
    "        \n",
    "        if len(cords)>1:\n",
    "            i=0\n",
    "            for i in range(len(cords)):              \n",
    "                \n",
    "                for j in range(i+1,len(cords)):\n",
    "                    a=cords[i][0]\n",
    "                    b=cords[i][1]\n",
    "                    c=cords[j][0]\n",
    "                    d=cords[j][1]\n",
    "                    distance=math.sqrt((c-a)**2 +(d-b)**2)\n",
    "                    \n",
    "                    x=body[i][0]\n",
    "                    y=body[i][1]\n",
    "                    w=body[i][2]\n",
    "                    h=body[i][3]\n",
    "                    x2=body[j][0]\n",
    "                    y2=body[j][1]\n",
    "                    w2=body[j][2]\n",
    "                    h2=body[j][3]\n",
    "                    \n",
    "                    if (distance <=100):\n",
    "                                             \n",
    "                        photo = cv2.rectangle(photo, (x,y), (x+w,y+h), (0,0,255), 2)\n",
    "                        photo=cv2.line(photo,(a,b),(c,d),(0,0,255),2)\n",
    "                        photo = cv2.rectangle(photo, (x2,y2), (x2+w2,y2+h2), (0,0,255), 2)                       \n",
    "                        cv2.imshow('bits and bytes',photo) \n",
    "                            \n",
    "        else:\n",
    "            cv2.imshow('bits and bytes',photo)\n",
    "            \n",
    "        if cv2.waitKey(10) == 13: \n",
    "            break\n",
    "    \n",
    "  \n",
    "cap.release() \n",
    "cv2.destroyAllWindows() \n"
   ]
  },
  {
   "cell_type": "code",
   "execution_count": 2,
   "metadata": {
    "colab": {
     "base_uri": "https://localhost:8080/",
     "height": 489
    },
    "colab_type": "code",
    "executionInfo": {
     "elapsed": 3920,
     "status": "ok",
     "timestamp": 1587321111354,
     "user": {
      "displayName": "surabhi singhania",
      "photoUrl": "",
      "userId": "10395154559736264798"
     },
     "user_tz": -330
    },
    "id": "d8Zz7tDhs3sE",
    "outputId": "cf5e55ab-f29c-417c-f741-7b28c665f112"
   },
   "outputs": [
    {
     "name": "stderr",
     "output_type": "stream",
     "text": [
      "Invalid switch - \"My\\\".\n"
     ]
    }
   ],
   "source": [
    "ls drive/My\\ Drive/"
   ]
  },
  {
   "cell_type": "code",
   "execution_count": 0,
   "metadata": {
    "colab": {},
    "colab_type": "code",
    "id": "Cc1V4rAis4Cf"
   },
   "outputs": [],
   "source": []
  },
  {
   "cell_type": "code",
   "execution_count": 0,
   "metadata": {
    "colab": {},
    "colab_type": "code",
    "id": "ctfSaLm4crya"
   },
   "outputs": [],
   "source": []
  }
 ],
 "metadata": {
  "colab": {
   "authorship_tag": "ABX9TyMmLPUmrDDLasReoGxVZrxw",
   "collapsed_sections": [],
   "mount_file_id": "1LNSHcN1wIp_83RrYdBWaJ69xaM1wMPlh",
   "name": "social_distancing_model.ipynb",
   "provenance": [
    {
     "file_id": "1rwZbBIiSOssddFeaBrLTshs5KKnQWbeL",
     "timestamp": 1587296761235
    }
   ]
  },
  "kernelspec": {
   "display_name": "Python 3",
   "language": "python",
   "name": "python3"
  },
  "language_info": {
   "codemirror_mode": {
    "name": "ipython",
    "version": 3
   },
   "file_extension": ".py",
   "mimetype": "text/x-python",
   "name": "python",
   "nbconvert_exporter": "python",
   "pygments_lexer": "ipython3",
   "version": "3.7.1"
  }
 },
 "nbformat": 4,
 "nbformat_minor": 1
}
